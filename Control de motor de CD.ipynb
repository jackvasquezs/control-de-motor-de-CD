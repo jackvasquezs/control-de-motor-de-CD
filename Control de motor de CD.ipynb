{
 "cells": [
  {
   "cell_type": "code",
   "execution_count": 55,
   "metadata": {},
   "outputs": [],
   "source": [
    "import emoji\n",
    "import numpy as np\n",
    "import matplotlib.pyplot as plt\n",
    "import control as co\n",
    "from scipy import signal\n",
    "from IPython.display import Image\n",
    "from IPython.core.display import HTML \n",
    "import ipywidgets as widgets\n",
    "from ipywidgets import interact, interactive, fixed, interact_manual"
   ]
  },
  {
   "cell_type": "markdown",
   "metadata": {},
   "source": [
    " ![logo](logouvp.png)"
   ]
  },
  {
   "cell_type": "markdown",
   "metadata": {},
   "source": [
    "# Universidad del Valle de Puebla\n",
    "## Sistemas de control inteligente"
   ]
  },
  {
   "cell_type": "markdown",
   "metadata": {},
   "source": [
    "### 1. Modelo matemático de un motor de CD"
   ]
  },
  {
   "cell_type": "markdown",
   "metadata": {},
   "source": [
    "Un motor de CD se modela considerando las partes eléctrica y mecánica. Como se sabe un motor esta compuesto de un embobinado que presenta una resistencia (R) e inductancia (L). Por otra parte se genera un voltaje contraelectromotriz $e(t)$ que está en función de la velocidad del motor $\\omega$ y el flujo electromagnético $\\phi$. Para modelar la parte mecánica se considera el coeficiente de inercia del eje del motor *J* y el par de carga $T_L$."
   ]
  },
  {
   "cell_type": "markdown",
   "metadata": {},
   "source": [
    "![motor1](img/motorCDv20.png)"
   ]
  },
  {
   "cell_type": "markdown",
   "metadata": {},
   "source": [
    "Las ecuaciones que describen el modelo del motor, están determinadas por la **parte eléctrica**:\n"
   ]
  },
  {
   "cell_type": "markdown",
   "metadata": {},
   "source": [
    "$$\\begin{eqnarray*}\n",
    "\tv(t)&=&Ri(t)+L\\frac{di(t)}{dt}+e(t)\\\\\n",
    "    \\label{ecmot} \\tag{1}\n",
    "\tT_m(t)&=&J\\frac{d\\omega(t)}{dt}+B\\omega(t)+T_L(t)\n",
    "    \\end{eqnarray*}$$"
   ]
  },
  {
   "cell_type": "markdown",
   "metadata": {},
   "source": [
    "donde $v(t)$ es el voltaje aplicado al motor, $e(t)$ es el voltaje electromotriz inducido durante rotación del motor, $i(t)$ es la corriente del motor, $R$ y $L$ la resistencia e inductancia del embobinado, respectivamente y $B$ el coeficiente de fricción."
   ]
  },
  {
   "cell_type": "markdown",
   "metadata": {},
   "source": [
    "El voltaje de fuerza electromotriz del motor esta en función de la velocidad del motor $\\omega$ y la constante $K_m$ del motor: "
   ]
  },
  {
   "cell_type": "markdown",
   "metadata": {},
   "source": [
    "$$\\begin{equation}\n",
    "e(t)=K_m \\omega (t) \n",
    "\\label{vcontra} \\tag{2}\n",
    "\\end{equation}\n",
    "$$ "
   ]
  },
  {
   "cell_type": "markdown",
   "metadata": {},
   "source": [
    "Por otra parte el par del motor está  determinado por:   "
   ]
  },
  {
   "cell_type": "markdown",
   "metadata": {},
   "source": [
    "$$\\begin{equation}\n",
    "T_m(t)=K_m i(t)\n",
    "\\label{parm} \\tag{3}\n",
    "\\end{equation}$$"
   ]
  },
  {
   "cell_type": "markdown",
   "metadata": {},
   "source": [
    "Al sustituir (2) y (3), en (1), se obtiene: "
   ]
  },
  {
   "cell_type": "markdown",
   "metadata": {},
   "source": [
    "$$\\begin{eqnarray*}\n",
    "\tv(t)=Ri(t)+L\\frac{di(t)}{dt}+K_m\\omega(t)\\\\\n",
    "      \\label{fin} \\tag{4} \n",
    "\tK_mi(t)=J\\frac{d\\omega}{dt}+B\\omega(t)+T_L(t)\n",
    "  \t\\end{eqnarray*}$$"
   ]
  },
  {
   "cell_type": "markdown",
   "metadata": {},
   "source": [
    "despejando la derivada, "
   ]
  },
  {
   "cell_type": "markdown",
   "metadata": {},
   "source": [
    "$$\\begin{eqnarray}\n",
    "\\label{modfin1}\n",
    "\\frac{di(t)}{dt}&=&\\frac{v(t)}{L}-\\frac{K_m}{L}\\omega(t)-\\frac{R}{L}i(t)\\\\\n",
    "\\frac{d\\omega(t)}{dt}&=&\\frac{K_m}{J}i(t)-\\frac{B}{J}\\omega(t)-\\frac{T_L(t)}{J}\n",
    "\\label{modfin2}\\tag{5}\n",
    "\\end{eqnarray}$$"
   ]
  },
  {
   "cell_type": "markdown",
   "metadata": {},
   "source": [
    "### 2. Variables de estado "
   ]
  },
  {
   "cell_type": "markdown",
   "metadata": {},
   "source": [
    "\tLos sistemas dinámicos lineales, se pueden representar con variables de estado:"
   ]
  },
  {
   "cell_type": "markdown",
   "metadata": {},
   "source": [
    "$$\\begin{eqnarray}\n",
    "\t\\label{edo1}\n",
    "\t\\dot{\\textbf{x}}&=&\\textbf{A}\\cdot \\textbf{x}+\\textbf{B} \\cdot \\textbf{u} \\\\\n",
    "\ty&=&\\textbf{C} \\cdot \\textbf{x}\n",
    "\t\\label{edo2} \\tag{6}\n",
    "\t\\end{eqnarray} $$"
   ]
  },
  {
   "cell_type": "markdown",
   "metadata": {},
   "source": [
    "El punto sobre el vector $x$ representa la derivada de las variables de estado. Sustituyendo las ecuaciones (4) en (6) se tiene, con $T_L=0$:"
   ]
  },
  {
   "cell_type": "markdown",
   "metadata": {},
   "source": [
    "$$\\begin{equation}\n",
    "\t \\begin{bmatrix}\n",
    "\t  di(t)/{dt} \\\\\n",
    "\t  d\\omega(t)/{dt}\n",
    "\t \\end{bmatrix}\n",
    "\t =\n",
    "\t \\begin{bmatrix}\n",
    "\t -R/L & -K_m/L\\\\\n",
    "\t K_m/J &-B/J\t \n",
    "\t \\end{bmatrix}\n",
    "\t \\begin{bmatrix}\n",
    "\t  i(t) \\\\\n",
    "\t \\omega(t)\n",
    "\t \\end{bmatrix}\n",
    "\t +\n",
    "\t \\begin{bmatrix}\n",
    "\t 1/L\\\\\n",
    "\t 0 \n",
    "\t \\end{bmatrix}\n",
    "\t v(t)\n",
    "\t\\end{equation}\n",
    "    \\tag{7}\n",
    "$$"
   ]
  },
  {
   "cell_type": "markdown",
   "metadata": {},
   "source": [
    "Haciendo un cambio de variable, $x_1=i(t)$ y $x_2=\\omega(t)$, se obtiene:"
   ]
  },
  {
   "cell_type": "markdown",
   "metadata": {},
   "source": [
    "$$\\begin{equation}\n",
    "\t \\begin{bmatrix}\n",
    "\t  \\dot{x}_1 \\\\\n",
    "\t  \\dot{x}_2 \n",
    "\t \\end{bmatrix}\n",
    "\t =\n",
    "\t \\begin{bmatrix}\n",
    "\t -R/L & -K_m/L\\\\\n",
    "\t K_m/J &-B/J\t \n",
    "\t \\end{bmatrix}\n",
    "\t \\begin{bmatrix}\n",
    "\t  x_1(t) \\\\\n",
    "\t x_2(t)\n",
    "\t \\end{bmatrix}\n",
    "\t +\n",
    "\t \\begin{bmatrix}\n",
    "\t 1/L\\\\\n",
    "\t 0 \n",
    "\t \\end{bmatrix}\n",
    "\t v(t)\n",
    "\t\\end{equation}\n",
    "    \\tag{8}\n",
    "$$"
   ]
  },
  {
   "cell_type": "markdown",
   "metadata": {},
   "source": [
    "la salida esta determinada por la siguiente ecuación,"
   ]
  },
  {
   "cell_type": "markdown",
   "metadata": {},
   "source": [
    "$$\t\\begin{equation}\n",
    "\t y=\n",
    "\t \\begin{bmatrix}\n",
    "\t  0&1\n",
    "\t \\end{bmatrix}\t\n",
    "\t  \\begin{bmatrix}\n",
    "\t x_1(t) \\\\\n",
    "\t x_2(t)\n",
    "\t \\end{bmatrix}\n",
    "\t\\end{equation}$$"
   ]
  },
  {
   "cell_type": "markdown",
   "metadata": {},
   "source": [
    "### 3. Valores experimentales  "
   ]
  },
  {
   "cell_type": "markdown",
   "metadata": {},
   "source": [
    "![tabla](img/tab_valores.png)"
   ]
  },
  {
   "cell_type": "markdown",
   "metadata": {},
   "source": [
    "Sustituyendo los valores de la tabla anterior en (8), se obtiene:"
   ]
  },
  {
   "cell_type": "code",
   "execution_count": 94,
   "metadata": {},
   "outputs": [
    {
     "data": {
      "image/png": "[encoded data removed]",
      "text/plain": [
       "<Figure size 432x288 with 1 Axes>"
      ]
     },
     "metadata": {
      "needs_background": "light"
     },
     "output_type": "display_data"
    }
   ],
   "source": [
    "R=1; L=0.5; J=0.01; b=0.1; Km=0.01;\n",
    "\n",
    "A=[[-R/L, -Km/L],[Km/J, -b/J]]\n",
    "B=[[1/L],[0]]\n",
    "C=[0,1]\n",
    "D=0\n",
    "sys2=signal.StateSpace(A,B,C,D)\n",
    "t2,y2=signal.step(sys2)\n",
    "\n",
    "plt.plot(t2,y2)\n",
    "#plt.plot(t2, [1 for i in t2])\n",
    "plt.grid()\n",
    "plt.xlabel('Voltaje (V)')\n",
    "plt.ylabel('Tiempo (t)')\n",
    "#plt.ylim(0,1.20)\n",
    "#plt.xlim(0,3)\n",
    "plt.show()\n"
   ]
  },
  {
   "cell_type": "markdown",
   "metadata": {},
   "source": [
    "Ahora se obtiene la funcion de transferencia del modelo del motor y se obtiene la respuesta del sistema."
   ]
  },
  {
   "cell_type": "code",
   "execution_count": 95,
   "metadata": {},
   "outputs": [
    {
     "name": "stderr",
     "output_type": "stream",
     "text": [
      "C:\\Users\\jacob\\anaconda3\\lib\\site-packages\\scipy\\signal\\filter_design.py:1622: BadCoefficients: Badly conditioned filter coefficients (numerator): the results may be meaningless\n",
      "  \"results may be meaningless\", BadCoefficients)\n"
     ]
    },
    {
     "data": {
      "image/png": "[encoded data removed]",
      "text/plain": [
       "<Figure size 432x288 with 1 Axes>"
      ]
     },
     "metadata": {
      "needs_background": "light"
     },
     "output_type": "display_data"
    }
   ],
   "source": [
    "sys=signal.ss2tf(A,B,C,D)\n",
    "t3,y3=signal.step(sys)\n",
    "plt.plot(t3,y3)\n",
    "plt.plot(t2,y2)\n",
    "#plt.plot(t2, [1 for i in t2])\n",
    "plt.grid()\n",
    "plt.ylabel('Velocidad ($\\omega$)')\n",
    "plt.xlabel('Tiempo (t)')\n",
    "#plt.ylim(0,1.20)\n",
    "#plt.xlim(0,3)\n",
    "plt.show()"
   ]
  },
  {
   "cell_type": "code",
   "execution_count": 140,
   "metadata": {},
   "outputs": [
    {
     "data": {
      "text/plain": [
       "(array([[0., 0., 2.]]), array([ 1.  , 12.  , 20.02]))"
      ]
     },
     "execution_count": 140,
     "metadata": {},
     "output_type": "execute_result"
    }
   ],
   "source": [
    "sys"
   ]
  },
  {
   "cell_type": "code",
   "execution_count": 141,
   "metadata": {},
   "outputs": [
    {
     "data": {
      "image/png": "[encoded data removed]",
      "text/plain": [
       "<Figure size 432x288 with 1 Axes>"
      ]
     },
     "metadata": {
      "needs_background": "light"
     },
     "output_type": "display_data"
    }
   ],
   "source": [
    "systf = co.tf([2], [1, 12 ,20.02]) # Creamos el sistema mediante la función de transferencia.\n",
    "t,y=co.step_response(systf)\n",
    "plt.plot(t,y)\n",
    "#plt.plot(t2, [1 for i in t2])\n",
    "plt.grid()\n",
    "plt.ylabel('Velocidad ($\\omega$)')\n",
    "plt.xlabel('Tiempo (t)')\n",
    "#plt.ylim(0,1.20)\n",
    "#plt.xlim(0,3)\n",
    "plt.show()"
   ]
  },
  {
   "cell_type": "code",
   "execution_count": 142,
   "metadata": {},
   "outputs": [
    {
     "data": {
      "text/latex": [
       "$$\\frac{2}{s^2 + 12 s + 20.02}$$"
      ],
      "text/plain": [
       "\n",
       "        2\n",
       "------------------\n",
       "s^2 + 12 s + 20.02"
      ]
     },
     "execution_count": 142,
     "metadata": {},
     "output_type": "execute_result"
    }
   ],
   "source": [
    "systf"
   ]
  },
  {
   "cell_type": "markdown",
   "metadata": {},
   "source": [
    "Pero todas las respuestas anteriores, se obtienen con una señal de entrada que se aplica a un sistema en lazo abierto, \n",
    "como se muestra en la siguiente figura."
   ]
  },
  {
   "cell_type": "markdown",
   "metadata": {},
   "source": [
    "![motor_lzoA](img/motor_ol.png)"
   ]
  },
  {
   "cell_type": "markdown",
   "metadata": {},
   "source": [
    "Pero lo que se desea es que la señal de salida, siga a la señal de entrada. Para lo cual se empleará un sensor que mide la velocidad del motor y se compare con la señal de referencia."
   ]
  },
  {
   "cell_type": "markdown",
   "metadata": {},
   "source": [
    "![motor_lc](img/motor_retro2.png)"
   ]
  },
  {
   "cell_type": "code",
   "execution_count": 143,
   "metadata": {},
   "outputs": [],
   "source": [
    "sysr=co.feedback(systf,1,-1)"
   ]
  },
  {
   "cell_type": "code",
   "execution_count": 144,
   "metadata": {},
   "outputs": [
    {
     "data": {
      "text/latex": [
       "$$\\frac{2}{s^2 + 12 s + 22.02}$$"
      ],
      "text/plain": [
       "\n",
       "        2\n",
       "------------------\n",
       "s^2 + 12 s + 22.02"
      ]
     },
     "execution_count": 144,
     "metadata": {},
     "output_type": "execute_result"
    }
   ],
   "source": [
    "sysr"
   ]
  },
  {
   "cell_type": "markdown",
   "metadata": {},
   "source": [
    "La respuesta del sistema retroalimentado es la siguiente:"
   ]
  },
  {
   "cell_type": "code",
   "execution_count": 145,
   "metadata": {},
   "outputs": [
    {
     "data": {
      "image/png": "[encoded data removed]",
      "text/plain": [
       "<Figure size 432x288 with 1 Axes>"
      ]
     },
     "metadata": {
      "needs_background": "light"
     },
     "output_type": "display_data"
    }
   ],
   "source": [
    "t,y=co.step_response(sysr)\n",
    "plt.plot(t,y)\n",
    "#plt.plot(t2, [1 for i in t2])\n",
    "plt.grid()\n",
    "plt.ylabel('Velocidad ($\\omega$)')\n",
    "plt.xlabel('Tiempo (t)')\n",
    "#plt.ylim(0,1.20)\n",
    "#plt.xlim(0,3)\n",
    "plt.show()"
   ]
  },
  {
   "cell_type": "markdown",
   "metadata": {},
   "source": [
    "Pero la respuesta casi no presenta cambios. Ahora vamos a incrementar la ganancia, es decir multiplicamos por 10 la función de transferencia y se obtiene."
   ]
  },
  {
   "cell_type": "code",
   "execution_count": 162,
   "metadata": {},
   "outputs": [
    {
     "data": {
      "application/vnd.jupyter.widget-view+json": {
       "model_id": "77a4726449a842e28652df1d6957ec26",
       "version_major": 2,
       "version_minor": 0
      },
      "text/plain": [
       "IntSlider(value=10, continuous_update=False, description='Ganancia:', max=150, min=1)"
      ]
     },
     "metadata": {},
     "output_type": "display_data"
    }
   ],
   "source": [
    "ganancia=widgets.IntSlider(\n",
    "    value=10,\n",
    "    min=1,\n",
    "    max=150,\n",
    "    step=1,\n",
    "    description='Ganancia:',\n",
    "    disabled=False,\n",
    "    continuous_update=False,\n",
    "    orientation='horizontal',\n",
    "    readout=True,\n",
    "    readout_format='d'\n",
    ")\n",
    "display(ganancia)"
   ]
  },
  {
   "cell_type": "code",
   "execution_count": 176,
   "metadata": {},
   "outputs": [
    {
     "data": {
      "image/png": "[encoded data removed]",
      "text/plain": [
       "<Figure size 432x288 with 1 Axes>"
      ]
     },
     "metadata": {
      "needs_background": "light"
     },
     "output_type": "display_data"
    }
   ],
   "source": [
    "systf=co.tf([0.000000000000002*ganancia.value, 2*ganancia.value], [1, 12 ,20.02])\n",
    "sysrg=co.feedback(systf,1)\n",
    "tr,yr=co.step_response(sysrg)\n",
    "plt.plot(tr,yr)\n",
    "#plt.plot(t2, [1 for i in t2])\n",
    "plt.grid()\n",
    "plt.ylabel('Velocidad ($\\omega$)')\n",
    "plt.xlabel('Tiempo (t)')\n",
    "#plt.ylim(0,1.20)\n",
    "#plt.xlim(0,3)\n",
    "plt.show()"
   ]
  },
  {
   "cell_type": "code",
   "execution_count": 178,
   "metadata": {},
   "outputs": [
    {
     "data": {
      "text/latex": [
       "$$\\frac{2 \\times 10^{-13} s + 200}{s^2 + 12 s + 220}$$"
      ],
      "text/plain": [
       "\n",
       "  2e-13 s + 200\n",
       "----------------\n",
       "s^2 + 12 s + 220"
      ]
     },
     "execution_count": 178,
     "metadata": {},
     "output_type": "execute_result"
    }
   ],
   "source": [
    "sysrg"
   ]
  },
  {
   "cell_type": "code",
   "execution_count": null,
   "metadata": {},
   "outputs": [],
   "source": []
  }
 ],
 "metadata": {
  "kernelspec": {
   "display_name": "Python 3",
   "language": "python",
   "name": "python3"
  },
  "language_info": {
   "codemirror_mode": {
    "name": "ipython",
    "version": 3
   },
   "file_extension": ".py",
   "mimetype": "text/x-python",
   "name": "python",
   "nbconvert_exporter": "python",
   "pygments_lexer": "ipython3",
   "version": "3.7.6"
  }
 },
 "nbformat": 4,
 "nbformat_minor": 4
}
